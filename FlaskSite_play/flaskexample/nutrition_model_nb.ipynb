{
 "cells": [
  {
   "cell_type": "markdown",
   "metadata": {
    "collapsed": true
   },
   "source": [
    "def ModelIt(data_dri, data_from_sql):\n",
    "    import sys\n",
    "    sys.path.append('/usr/local/lib/python2.7/dist-packages/Numberjack/solvers')\n",
    "    import numpy as np\n",
    "    from Numberjack import *\n",
    "    from Mistral import Solver\n",
    "    \n",
    "    nutrients=(100*np.array([data_from_sql['energy'],data_from_sql['carbs'],data_from_sql['protein'],data_from_sql['iron'],data_from_sql['vit_a'],data_from_sql['vit_c']])).astype(np.int)\n",
    "    costs=(100*np.array(data_from_sql['price'])).astype(np.int)\n",
    "    n=[2000,100,30,6,625,75] #temporarily correct for buggy list below\n",
    "    #n=[data_dri['energy'],data_dri['carbs'],data_dri['protein'],data_dri['iron'],data_dri['vit_a'],data_dri['vit_c']]\n",
    "        \n",
    "    def knapsack(costs, nutrients, n):\n",
    "        z = Variable(0, 10000)\n",
    "        x = VarArray(len(costs), 0, 20)\n",
    "        model = Model(\n",
    "            z >= 0,\n",
    "            z == Sum(x, costs),\n",
    "            Sum(x, nutrients[0]) >= n[0], #nutrient #1\n",
    "            Sum(x, nutrients[1]) >= n[1], #nutrient #2\n",
    "            Sum(x, nutrients[2]) >= n[2], #nutrient #3\n",
    "            Sum(x, nutrients[3]) >= n[3], #nutrient #4\n",
    "            Sum(x, nutrients[4]) >= n[4], #nutrient #5\n",
    "            Sum(x, nutrients[5]) >= n[5], #nutrient #6\n",
    "            Minimise(z)\n",
    "            )\n",
    "        return [model, x, z]\n",
    "    \n",
    "    \n",
    "    def knapsack_model(libs, costs, nutrients, n):\n",
    "        [model, x, z] = knapsack(costs, nutrients, n)\n",
    "        for library in libs:\n",
    "            solver = model.load(library)\n",
    "            print ''\n",
    "            if solver.solve():\n",
    "                print \"z: \", z\n",
    "                print \"x: \", x\n",
    "                solver.printStatistics()\n",
    "                print 'Nodes:', solver.getNodes(), ' Time:', solver.getTime()\n",
    "            else:\n",
    "                print \"No solution\"\n",
    "            print ''\n",
    "\n",
    "\n",
    "\n",
    "    # knapsack_model(['SCIP'], values, weights, n)\n",
    "    knapsack_model(['Mistral'], costs, nutrients, n) "
   ]
  },
  {
   "cell_type": "code",
   "execution_count": null,
   "metadata": {
    "collapsed": true
   },
   "outputs": [],
   "source": []
  },
  {
   "cell_type": "code",
   "execution_count": 5,
   "metadata": {
    "collapsed": false
   },
   "outputs": [],
   "source": [
    "def ModelIt(data_from_sql):\n",
    "    import sys\n",
    "    sys.path.append('/usr/local/lib/python2.7/dist-packages/Numberjack/solvers')\n",
    "    import numpy as np\n",
    "    import Numberjack as nj\n",
    "    from Mistral import Solver\n",
    "    \n",
    "    nutrients=(100*np.array([data_from_sql['energy'],data_from_sql['carbs'],data_from_sql['protein'],data_from_sql['iron'],data_from_sql['vit_a'],data_from_sql['vit_c']])).astype(np.int)\n",
    "    costs=(100*np.array(data_from_sql['price'])).astype(np.int)\n",
    "    n=[2000,100,30,6,625,75] #temporarily correct for buggy list below\n",
    "    #n=[data_dri['energy'],data_dri['carbs'],data_dri['protein'],data_dri['iron'],data_dri['vit_a'],data_dri['vit_c']]\n",
    "        \n",
    "    def knapsack(costs, nutrients, n):\n",
    "        z = nj.Variable(0, 10000)\n",
    "        x = nj.VarArray(len(costs), 0, 20)\n",
    "        model = Model(\n",
    "            z >= 0,\n",
    "            z == Sum(x, costs),\n",
    "            Sum(x, nutrients[0]) >= n[0], #nutrient #1\n",
    "            Sum(x, nutrients[1]) >= n[1], #nutrient #2\n",
    "            Sum(x, nutrients[2]) >= n[2], #nutrient #3\n",
    "            Sum(x, nutrients[3]) >= n[3], #nutrient #4\n",
    "            Sum(x, nutrients[4]) >= n[4], #nutrient #5\n",
    "            Sum(x, nutrients[5]) >= n[5], #nutrient #6\n",
    "            Minimise(z)\n",
    "            )\n",
    "        return [model, x, z]\n",
    "    \n",
    "    \n",
    "    def knapsack_model(libs, costs, nutrients, n):\n",
    "        [model, x, z] = knapsack(costs, nutrients, n)\n",
    "        for library in libs:\n",
    "            solver = model.load(library)\n",
    "            print ''\n",
    "            if solver.solve():\n",
    "                print \"z: \", z\n",
    "                print \"x: \", x\n",
    "                solver.printStatistics()\n",
    "                print 'Nodes:', solver.getNodes(), ' Time:', solver.getTime()\n",
    "            else:\n",
    "                print \"No solution\"\n",
    "            print ''\n",
    "\n",
    "\n",
    "\n",
    "    # knapsack_model(['SCIP'], values, weights, n)\n",
    "    knapsack_model(['Mistral'], costs, nutrients, n) "
   ]
  },
  {
   "cell_type": "code",
   "execution_count": 7,
   "metadata": {
    "collapsed": false
   },
   "outputs": [
    {
     "ename": "NameError",
     "evalue": "name 'data_from_sql' is not defined",
     "output_type": "error",
     "traceback": [
      "\u001b[1;31m---------------------------------------------------------------------------\u001b[0m",
      "\u001b[1;31mNameError\u001b[0m                                 Traceback (most recent call last)",
      "\u001b[1;32m<ipython-input-7-d534efc5ef65>\u001b[0m in \u001b[0;36m<module>\u001b[1;34m()\u001b[0m\n\u001b[1;32m----> 1\u001b[1;33m \u001b[0msvmodel\u001b[0m \u001b[1;33m=\u001b[0m \u001b[0mModelIt\u001b[0m\u001b[1;33m(\u001b[0m\u001b[0mdata_from_sql\u001b[0m\u001b[1;33m)\u001b[0m\u001b[1;33m\u001b[0m\u001b[0m\n\u001b[0m\u001b[0;32m      2\u001b[0m \u001b[1;32mwith\u001b[0m \u001b[0mopen\u001b[0m\u001b[1;33m(\u001b[0m\u001b[1;34m'model.b'\u001b[0m\u001b[1;33m,\u001b[0m \u001b[1;34m'wb'\u001b[0m\u001b[1;33m)\u001b[0m \u001b[1;32mas\u001b[0m \u001b[0mmyfile\u001b[0m\u001b[1;33m:\u001b[0m\u001b[1;33m\u001b[0m\u001b[0m\n\u001b[0;32m      3\u001b[0m     \u001b[0mpickle\u001b[0m\u001b[1;33m.\u001b[0m\u001b[0mdump\u001b[0m\u001b[1;33m(\u001b[0m\u001b[0msvmodel\u001b[0m\u001b[1;33m,\u001b[0m \u001b[0mmyfile\u001b[0m\u001b[1;33m)\u001b[0m\u001b[1;33m\u001b[0m\u001b[0m\n",
      "\u001b[1;31mNameError\u001b[0m: name 'data_from_sql' is not defined"
     ]
    }
   ],
   "source": [
    "svmodel = ModelIt(data_from_sql)\n",
    "with open('model.b', 'wb') as myfile:\n",
    "    pickle.dump(svmodel, myfile)"
   ]
  },
  {
   "cell_type": "code",
   "execution_count": null,
   "metadata": {
    "collapsed": true
   },
   "outputs": [],
   "source": []
  },
  {
   "cell_type": "code",
   "execution_count": null,
   "metadata": {
    "collapsed": true
   },
   "outputs": [],
   "source": [
    "\n",
    "# from SCIP import Solver\n",
    "\n",
    "\n",
    "#\n",
    "# Somewhat general definition of knapsack.\n",
    "#\n",
    "def knapsack(costs, nutrients, n):\n",
    "    z = Variable(0, 10000)\n",
    "    x = VarArray(len(costs), 0, 20)\n",
    "    model = Model(\n",
    "        z >= 0,\n",
    "        z == Sum(x, costs),\n",
    "        Sum(x, nutrients[0]) >= n[0], #nutrient #1\n",
    "        Sum(x, nutrients[1]) >= n[1], #nutrient #2\n",
    "        Sum(x, nutrients[2]) >= n[2], #nutrient #3\n",
    "        Sum(x, nutrients[3]) >= n[3], #nutrient #4\n",
    "        Sum(x, nutrients[4]) >= n[4], #nutrient #5\n",
    "        Sum(x, nutrients[5]) >= n[5], #nutrient #6\n",
    "        Minimise(z)\n",
    "        )\n",
    "    return [model, x, z]"
   ]
  },
  {
   "cell_type": "code",
   "execution_count": null,
   "metadata": {
    "collapsed": true
   },
   "outputs": [],
   "source": [
    "def knapsack_model(libs, costs, nutrients, n):\n",
    "    \n",
    "    [model, x, z] = knapsack(costs, nutrients, n)\n",
    "    for library in libs:\n",
    "        solver = model.load(library)\n",
    "        print ''\n",
    "        if solver.solve():\n",
    "            print \"z: \", z\n",
    "            print \"x: \", x\n",
    "            solver.printStatistics()\n",
    "            print 'Nodes:', solver.getNodes(), ' Time:', solver.getTime()\n",
    "        else:\n",
    "            print \"No solution\"\n",
    "        print ''\n",
    "\n",
    "\n",
    "\n",
    "# knapsack_model(['SCIP'], values, weights, n)\n",
    "knapsack_model(['Mistral'], costs, nutrients, n)"
   ]
  }
 ],
 "metadata": {
  "kernelspec": {
   "display_name": "Python 2",
   "language": "python",
   "name": "python2"
  },
  "language_info": {
   "codemirror_mode": {
    "name": "ipython",
    "version": 2
   },
   "file_extension": ".py",
   "mimetype": "text/x-python",
   "name": "python",
   "nbconvert_exporter": "python",
   "pygments_lexer": "ipython2",
   "version": "2.7.11"
  }
 },
 "nbformat": 4,
 "nbformat_minor": 0
}
